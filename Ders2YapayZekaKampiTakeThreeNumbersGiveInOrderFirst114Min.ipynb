{
  "nbformat": 4,
  "nbformat_minor": 0,
  "metadata": {
    "colab": {
      "name": "Ders2YapayZekaKampiTakeThreeNumbersGiveInOrderFirst114Min.ipynb",
      "provenance": [],
      "collapsed_sections": [],
      "authorship_tag": "ABX9TyMGqUDaM8V1DBeOEgZWYEsq",
      "include_colab_link": true
    },
    "kernelspec": {
      "name": "python3",
      "display_name": "Python 3"
    },
    "language_info": {
      "name": "python"
    }
  },
  "cells": [
    {
      "cell_type": "markdown",
      "metadata": {
        "id": "view-in-github",
        "colab_type": "text"
      },
      "source": [
        "<a href=\"https://colab.research.google.com/github/durakmuhammetyasir/ProjectCampsJune/blob/main/Ders2YapayZekaKampiTakeThreeNumbersGiveInOrderFirst114Min.ipynb\" target=\"_parent\"><img src=\"https://colab.research.google.com/assets/colab-badge.svg\" alt=\"Open In Colab\"/></a>"
      ]
    },
    {
      "cell_type": "code",
      "metadata": {
        "colab": {
          "base_uri": "https://localhost:8080/"
        },
        "id": "RVReIZ-4nN_3",
        "outputId": "bba5fbab-1b40-4c7e-fc5f-3ba20a26bb15"
      },
      "source": [
        "sayi1 = 56\n",
        "print(sayi1<4 and sayi1>98)\n",
        "print(sayi1>4 and sayi1<98)\n",
        "print(sayi1==4 or sayi1<98)\n",
        "print(sayi1==4 or sayi1>98)"
      ],
      "execution_count": null,
      "outputs": [
        {
          "output_type": "stream",
          "text": [
            "False\n",
            "True\n",
            "True\n",
            "False\n"
          ],
          "name": "stdout"
        }
      ]
    },
    {
      "cell_type": "code",
      "metadata": {
        "colab": {
          "base_uri": "https://localhost:8080/"
        },
        "id": "2brZws9Vt0wO",
        "outputId": "d86a3d77-8f4a-48b6-a0bf-420c5a43f1eb"
      },
      "source": [
        "sayi2 = int(input(\"Sayiyi verin : \"))\n",
        "print(sayi2>4 and sayi2<98)"
      ],
      "execution_count": null,
      "outputs": [
        {
          "output_type": "stream",
          "text": [
            "Sayiyi verin : 77\n",
            "True\n"
          ],
          "name": "stdout"
        }
      ]
    },
    {
      "cell_type": "code",
      "metadata": {
        "colab": {
          "base_uri": "https://localhost:8080/"
        },
        "id": "9Dhl4UBEuGad",
        "outputId": "5d641558-43f8-4824-c438-357f10adef45"
      },
      "source": [
        "sayi3 = int(input(\"ilk sayiyi verin : \"))\n",
        "sayi4 = int(input(\"ikinci sayiyi verin : \"))\n",
        "sayi5 = int(input(\"ucuncu sayiyi verin : \"))\n",
        "if(sayi3<sayi4):\n",
        "  print(str(sayi4) + \" \" + \"is bigger than \"+ str(sayi3))\n",
        "  if(sayi4<sayi5):\n",
        "    print(str(sayi5) + \" is the biggest\")\n",
        "    print(str(sayi3)+ \"<\" + str(sayi4) + \"<\" +str(sayi5))\n",
        "    print(\"kucukten buyuge {\" +str(sayi3) + \", \" + str(sayi4) + \", \" + str(sayi5)+\"}\")\n",
        "  elif(sayi4>sayi5):\n",
        "    print(str(sayi4) + \" is the biggest\")\n",
        "    if(sayi3<sayi5):\n",
        "      print(str(sayi3)+ \"<\" + str(sayi5) + \"<\" +str(sayi4))\n",
        "      print(\"kucukten buyuge {\" + str(sayi3) + \", \" + str(sayi5) + \", \" + str(sayi4) + \"}\")\n",
        "    elif(sayi3>sayi5):\n",
        "      print(str(sayi5)+ \"<\" + str(sayi3) + \"<\" +str(sayi4))\n",
        "      print(\"kucukten buyuge {\" + str(sayi5) + \", \" + str(sayi3) + \", \" + str(sayi4) + \"}\")\n",
        "    else:\n",
        "      print(str(sayi3)+ \"=\" + str(sayi5) + \"<\" +str(sayi4))\n",
        "      print(\"kucukten buyuge :ilk sayi esittir ucuncu sayiya ve ikisi kucuktur ikinci sayidan\")\n",
        "  else:\n",
        "    print(str(sayi5) + \" is the biggest\")\n",
        "    print(str(sayi3)+ \"<\" + str(sayi4) + \"=\" +str(sayi5))\n",
        "    print(\"kucukten buyuge : ilk sayi kucuktur birbirine esit olan ikinci ve ucuncu sayidan\")\n",
        "\n",
        "elif(sayi3>sayi4):\n",
        "  print(str(sayi4) + \" \" + \"is less than \"+ str(sayi3))\n",
        "  if(sayi3<sayi5):\n",
        "    print(str(sayi5) +\" is the biggest\")\n",
        "    print(str(sayi4)+ \"<\" + str(sayi3) + \"<\" +str(sayi5))\n",
        "    print(\"kucukten buyuge {\" + str(sayi4) + \", \" + str(sayi3) + \", \" + str(sayi5) + \"}\")\n",
        "  elif(sayi3>sayi5):\n",
        "    print(str(sayi3) +\" is the biggest\")\n",
        "    if(sayi4<sayi5):\n",
        "      print(str(sayi4)+ \"<\" + str(sayi5) + \"<\" +str(sayi3))\n",
        "      print(\"kucukten buyuge {\" + str(sayi4) + \", \" + str(sayi5) + \", \" + str(sayi3) + \"}\")\n",
        "    elif(sayi4>sayi5):\n",
        "      print(str(sayi5)+ \"<\" + str(sayi4) + \"<\" +str(sayi3))\n",
        "      print(\"kucukten buyuge {\" + str(sayi5) + \", \" + str(sayi4) + \", \" + str(sayi3) + \"}\")\n",
        "    else:\n",
        "      print(str(sayi5)+ \"=\" + str(sayi4) + \"<\" +str(sayi3))\n",
        "      print(\"kucukten buyuge :ikinci sayi esittir ucuncu sayiya ve ikisi kucuktur ilk sayidan\")\n",
        "  else:\n",
        "    print(str(sayi5) + \" is the biggest\")\n",
        "    print(str(sayi4)+ \"<\" + str(sayi3) + \"=\" +str(sayi5))\n",
        "    print(\"kucukten buyuge : ikinci sayi kucuktur birbirine esit olan ilk ve ucuncu sayidan\")\n",
        "    \n",
        "else:\n",
        "  if(sayi3>sayi5):\n",
        "    print(str(sayi3) + \" is the biggest\")\n",
        "    print(str(sayi5)+ \"<\" + str(sayi4) + \"=\" +str(sayi3))\n",
        "    print(\"kucukten buyuge : ucuncu sayi kucuktur birbirine esit olan ilk ve ikinci sayidan\")\n",
        "  elif(sayi3<sayi5):\n",
        "    print(str(sayi5) + \" is the biggest\")\n",
        "    print(str(sayi3)+ \"=\" + str(sayi4) + \"<\" +str(sayi5))\n",
        "    print(\"kucukten buyuge :ilk sayi esittir ikinci sayiya ve ikisi kucuktur ucuncu sayidan\")\n",
        "  else:\n",
        "    print(\"butun sayilar esit\")"
      ],
      "execution_count": null,
      "outputs": [
        {
          "output_type": "stream",
          "text": [
            "ilk sayiyi verin : 1\n",
            "ikinci sayiyi verin : 0\n",
            "ucuncu sayiyi verin : 0\n",
            "0 is less than 1\n",
            "1 is the biggest\n",
            "0=0<1\n",
            "kucukten buyuge :ikinci sayi esittir ucuncu sayiya ve ikisi kucuktur ilk sayidan\n"
          ],
          "name": "stdout"
        }
      ]
    }
  ]
}