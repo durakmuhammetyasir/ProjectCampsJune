{
  "nbformat": 4,
  "nbformat_minor": 0,
  "metadata": {
    "colab": {
      "name": "Day3YapayZekaKampifirst42min.ipynb",
      "provenance": []
    },
    "kernelspec": {
      "name": "python3",
      "display_name": "Python 3"
    },
    "language_info": {
      "name": "python"
    }
  },
  "cells": [
    {
      "cell_type": "code",
      "metadata": {
        "colab": {
          "base_uri": "https://localhost:8080/"
        },
        "id": "GpXagHaL9H3J",
        "outputId": "1f2efece-2501-4958-aed7-a6f90220b8fd"
      },
      "source": [
        "meyveler = [\"elma\", \"armut\", \"kivi\"]\n",
        "print(meyveler)\n",
        "print(type(meyveler))"
      ],
      "execution_count": 2,
      "outputs": [
        {
          "output_type": "stream",
          "text": [
            "['elma', 'armut', 'kivi']\n",
            "<class 'list'>\n"
          ],
          "name": "stdout"
        }
      ]
    },
    {
      "cell_type": "code",
      "metadata": {
        "colab": {
          "base_uri": "https://localhost:8080/"
        },
        "id": "PdxGCWTj9jVl",
        "outputId": "6617406a-809e-4ecb-bd62-f99d70857ea5"
      },
      "source": [
        "meyveler2 = list(( \"elma\", \"armut\", \"kivi\"))\n",
        "print(meyveler2)\n",
        "print(type(meyveler2))"
      ],
      "execution_count": 4,
      "outputs": [
        {
          "output_type": "stream",
          "text": [
            "['elma', 'armut', 'kivi']\n",
            "<class 'list'>\n"
          ],
          "name": "stdout"
        }
      ]
    },
    {
      "cell_type": "code",
      "metadata": {
        "colab": {
          "base_uri": "https://localhost:8080/"
        },
        "id": "at54hIOz-KEL",
        "outputId": "9bef01eb-e0ee-46cc-c3d1-fe795cf5d729"
      },
      "source": [
        "karma = [\"elif\", 20, False]\n",
        "print(karma)\n",
        "print(type(karma))\n",
        "print(len(karma))"
      ],
      "execution_count": 8,
      "outputs": [
        {
          "output_type": "stream",
          "text": [
            "['elif', 20, False]\n",
            "<class 'list'>\n",
            "3\n"
          ],
          "name": "stdout"
        }
      ]
    },
    {
      "cell_type": "code",
      "metadata": {
        "colab": {
          "base_uri": "https://localhost:8080/"
        },
        "id": "ZXf418Ev-j91",
        "outputId": "d1ef9259-0a0e-4027-fdbf-a7f0304b7177"
      },
      "source": [
        "meyveler3 = list((\"elma\", \"armut\", \"kivi\", \"cilek\", \"muz\"))\n",
        "print(meyveler3)\n",
        "print(type(meyveler3))\n",
        "print(len(meyveler3))\n",
        "print(meyveler3[0:3])\n",
        "if \"kivi\" in meyveler3:\n",
        "  print(\"kivi bulundu\")\n",
        "else:\n",
        "  print(\"kivi bulunmadi\")\n",
        "meyveler3[2] = \"ananas\"\n",
        "print(meyveler3)\n",
        "meyveler3[3:5] = \"muz\",\"cilek\"\n",
        "print(meyveler3)\n",
        "meyveler3[2:5] = \"cilek\",\"muz\",\"kivi\"\n",
        "print(meyveler3)\n",
        "meyveler3.append(\"portakal\")\n",
        "print(meyveler3)\n",
        "meyveler3.insert(1,\"karpuz\")\n",
        "print(meyveler3)"
      ],
      "execution_count": 5,
      "outputs": [
        {
          "output_type": "stream",
          "text": [
            "['elma', 'armut', 'kivi', 'cilek', 'muz']\n",
            "<class 'list'>\n",
            "5\n",
            "['elma', 'armut', 'kivi']\n",
            "kivi bulundu\n",
            "['elma', 'armut', 'ananas', 'cilek', 'muz']\n",
            "['elma', 'armut', 'ananas', 'muz', 'cilek']\n",
            "['elma', 'armut', 'cilek', 'muz', 'kivi']\n",
            "['elma', 'armut', 'cilek', 'muz', 'kivi', 'portakal']\n",
            "['elma', 'karpuz', 'armut', 'cilek', 'muz', 'kivi', 'portakal']\n"
          ],
          "name": "stdout"
        }
      ]
    },
    {
      "cell_type": "code",
      "metadata": {
        "colab": {
          "base_uri": "https://localhost:8080/"
        },
        "id": "_s5aonfBpsju",
        "outputId": "74b03b1b-399e-44ba-fc97-990cf5603312"
      },
      "source": [
        "meyveler4 = [\"elma\", \"armut\",\"cilek\"]\n",
        "meyveler5 = [\"muz\",\"kivi\"]\n",
        "meyveler4.extend(meyveler5)\n",
        "print(meyveler4)\n",
        "meyveler4.remove(\"armut\")\n",
        "print(meyveler4)\n",
        "meyveler4.pop(3)\n",
        "print(meyveler4)\n",
        "del meyveler4[1]\n",
        "print(meyveler4)\n",
        "meyveler4.clear()\n",
        "print(meyveler4)\n",
        "del(meyveler4)"
      ],
      "execution_count": 11,
      "outputs": [
        {
          "output_type": "stream",
          "text": [
            "['elma', 'armut', 'cilek', 'muz', 'kivi']\n",
            "['elma', 'cilek', 'muz', 'kivi']\n",
            "['elma', 'cilek', 'muz']\n",
            "['elma', 'muz']\n",
            "[]\n"
          ],
          "name": "stdout"
        }
      ]
    },
    {
      "cell_type": "code",
      "metadata": {
        "colab": {
          "base_uri": "https://localhost:8080/"
        },
        "id": "ASOCoTBGqvXd",
        "outputId": "d0f91a7c-be4b-4d87-f631-5238f556381d"
      },
      "source": [
        "gunler= [\"pazartesi\", \"sali\", \"carsamba\", \"persembe\", \"cuma\", \"cumartesi\",\"pazar\"]\n",
        "for gun in gunler:\n",
        "  print(gun)\n",
        "[print (gun) for gun in gunler]\n",
        "for gun in range (len(gunler)):\n",
        "  print(gunler[gun])\n",
        "  print(\"listenin\", gun)\n",
        "gun = 0\n",
        "while gun<len(gunler):\n",
        "  print(gunler[gun])\n",
        "  gun += 1"
      ],
      "execution_count": 6,
      "outputs": [
        {
          "output_type": "stream",
          "text": [
            "pazartesi\n",
            "sali\n",
            "carsamba\n",
            "persembe\n",
            "cuma\n",
            "cumartesi\n",
            "pazar\n",
            "pazartesi\n",
            "sali\n",
            "carsamba\n",
            "persembe\n",
            "cuma\n",
            "cumartesi\n",
            "pazar\n",
            "pazartesi\n",
            "listenin 0\n",
            "sali\n",
            "listenin 1\n",
            "carsamba\n",
            "listenin 2\n",
            "persembe\n",
            "listenin 3\n",
            "cuma\n",
            "listenin 4\n",
            "cumartesi\n",
            "listenin 5\n",
            "pazar\n",
            "listenin 6\n",
            "pazartesi\n",
            "sali\n",
            "carsamba\n",
            "persembe\n",
            "cuma\n",
            "cumartesi\n",
            "pazar\n"
          ],
          "name": "stdout"
        }
      ]
    }
  ]
}