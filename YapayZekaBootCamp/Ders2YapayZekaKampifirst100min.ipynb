{
  "nbformat": 4,
  "nbformat_minor": 0,
  "metadata": {
    "colab": {
      "name": "Ders2YapayZekaKampifirst100min.ipynb",
      "provenance": [],
      "collapsed_sections": [],
      "authorship_tag": "ABX9TyPmESRx/YXvTzD9/tRO9D13",
      "include_colab_link": true
    },
    "kernelspec": {
      "name": "python3",
      "display_name": "Python 3"
    },
    "language_info": {
      "name": "python"
    }
  },
  "cells": [
    {
      "cell_type": "markdown",
      "metadata": {
        "id": "view-in-github",
        "colab_type": "text"
      },
      "source": [
        "<a href=\"https://colab.research.google.com/github/durakmuhammetyasir/ProjectCampsJune/blob/main/Ders2YapayZekaKampifirst100min.ipynb\" target=\"_parent\"><img src=\"https://colab.research.google.com/assets/colab-badge.svg\" alt=\"Open In Colab\"/></a>"
      ]
    },
    {
      "cell_type": "code",
      "metadata": {
        "colab": {
          "base_uri": "https://localhost:8080/"
        },
        "id": "w-EfFl0c3A1o",
        "outputId": "d4dad62c-6684-4a36-b181-f1682deba704"
      },
      "source": [
        "degisken1 = str (\"Elif Hoca\")\n",
        "degisken2 = int (\"25\")\n",
        "degisken3 = float (\"1.25\")\n",
        "print(degisken1)\n",
        "print(degisken2)\n",
        "print(degisken3)"
      ],
      "execution_count": null,
      "outputs": [
        {
          "output_type": "stream",
          "text": [
            "Elif Hoca\n",
            "25\n",
            "1.25\n"
          ],
          "name": "stdout"
        }
      ]
    },
    {
      "cell_type": "code",
      "metadata": {
        "colab": {
          "base_uri": "https://localhost:8080/"
        },
        "id": "3i3777hSpro8",
        "outputId": "e920c3bb-7bac-4fcd-96ba-3aa010c59fd8"
      },
      "source": [
        "x, y, z = \"Elma\", \"Armut\", \"Portakal\"\n",
        "print(x)\n",
        "print(y)\n",
        "print(z)"
      ],
      "execution_count": null,
      "outputs": [
        {
          "output_type": "stream",
          "text": [
            "Elma\n",
            "Armut\n",
            "Portakal\n"
          ],
          "name": "stdout"
        }
      ]
    },
    {
      "cell_type": "code",
      "metadata": {
        "colab": {
          "base_uri": "https://localhost:8080/"
        },
        "id": "Rq7GvPWrqDBk",
        "outputId": "85027d8f-09b1-4c46-f8cc-815528b5044b"
      },
      "source": [
        "x, y, z = \"Elma\", \"Elma\",\"Elma\"\n",
        "print(x)\n",
        "print(y)\n",
        "print(z)"
      ],
      "execution_count": null,
      "outputs": [
        {
          "output_type": "stream",
          "text": [
            "Elma\n",
            "Elma\n",
            "Elma\n"
          ],
          "name": "stdout"
        }
      ]
    },
    {
      "cell_type": "code",
      "metadata": {
        "colab": {
          "base_uri": "https://localhost:8080/"
        },
        "id": "terh7bmhqXnT",
        "outputId": "308d4867-a28f-4726-ce27-04898b73d507"
      },
      "source": [
        "meyveler = \"Elma\", \"Armut\", \"Portakal\"\n",
        "x, y, z = meyveler\n",
        "print(x)\n",
        "print(y)\n",
        "print(z)"
      ],
      "execution_count": null,
      "outputs": [
        {
          "output_type": "stream",
          "text": [
            "Elma\n",
            "Armut\n",
            "Portakal\n"
          ],
          "name": "stdout"
        }
      ]
    },
    {
      "cell_type": "code",
      "metadata": {
        "colab": {
          "base_uri": "https://localhost:8080/"
        },
        "id": "GM3y-Bo2qtdl",
        "outputId": "a6942261-1816-4a6c-a79c-2c3e03f798ec"
      },
      "source": [
        "import random\n",
        "rastgeleSayi = random.randrange(1 ,10)\n",
        "print(rastgeleSayi)"
      ],
      "execution_count": null,
      "outputs": [
        {
          "output_type": "stream",
          "text": [
            "6\n"
          ],
          "name": "stdout"
        }
      ]
    },
    {
      "cell_type": "code",
      "metadata": {
        "colab": {
          "base_uri": "https://localhost:8080/"
        },
        "id": "hLNng1yrrZLm",
        "outputId": "8697def2-7fe7-4bcb-cbec-d2e04d300dea"
      },
      "source": [
        "kullaniciAdi = input(\"Kullanici adiniz nedir? \")\n",
        "print(\"Sizin kulanici adiniz: \", kullaniciAdi)"
      ],
      "execution_count": null,
      "outputs": [
        {
          "output_type": "stream",
          "text": [
            "Kullanici adiniz nedir? muyasid\n",
            "Sizin kulanici adiniz:  muyasid\n"
          ],
          "name": "stdout"
        }
      ]
    },
    {
      "cell_type": "code",
      "metadata": {
        "colab": {
          "base_uri": "https://localhost:8080/"
        },
        "id": "VGBZFkexWjrw",
        "outputId": "16c77d2b-aea5-44f0-e8ab-8330afa0c1eb"
      },
      "source": [
        "toplam1 = input(\"ilk sayiyi verin: \")\n",
        "toplam2 = input(\"ikinci sayiyi verin: \")\n",
        "print(toplam1 + toplam2)\n",
        "print(type(toplam1))\n",
        "toplam3 = int(input(\"Ucuncu sayiyi verin : \"))\n",
        "toplam4 = int(input(\"Dorduncu sayiyi verin : \"))\n",
        "print(toplam3 + toplam4)\n",
        "print(type(toplam3))\n",
        "toplam5 = float(input(\"Besinci sayiyi verin : \"))\n",
        "toplam6 = float(input(\"Altnci sayiyi verin : \"))\n",
        "print(toplam5+toplam6)\n",
        "print(type(toplam5))"
      ],
      "execution_count": null,
      "outputs": [
        {
          "output_type": "stream",
          "text": [
            "ilk sayiyi verin: ,1\n",
            "ikinci sayiyi verin: 2\n",
            ",12\n",
            "<class 'str'>\n",
            "Ucuncu sayiyi verin : 1\n",
            "Dorduncu sayiyi verin : 2\n",
            "3\n",
            "<class 'int'>\n",
            "Besinci sayiyi verin : 1.6\n",
            "Altnci sayiyi verin : 2.4\n",
            "4.0\n",
            "<class 'float'>\n"
          ],
          "name": "stdout"
        }
      ]
    },
    {
      "cell_type": "code",
      "metadata": {
        "colab": {
          "base_uri": "https://localhost:8080/"
        },
        "id": "NIiZmSD1cLdC",
        "outputId": "93279e1e-efcb-4e32-c804-723ee48d8b50"
      },
      "source": [
        "sayi11 = 6\n",
        "sayi12 = 8\n",
        "print(sayi11>=sayi12)\n",
        "print(sayi11<=sayi12)"
      ],
      "execution_count": null,
      "outputs": [
        {
          "output_type": "stream",
          "text": [
            "False\n",
            "True\n"
          ],
          "name": "stdout"
        }
      ]
    },
    {
      "cell_type": "code",
      "metadata": {
        "colab": {
          "base_uri": "https://localhost:8080/"
        },
        "id": "LgwYU-yAclaf",
        "outputId": "f322f374-5aff-4dd6-d9fe-5577f8fea8da"
      },
      "source": [
        "sayi13 = 200\n",
        "sayi14 = 500\n",
        "if (sayi13>sayi14):\n",
        "  print(str(sayi13) + \", \" + str(sayi14) +\" ten buyuktur.\")\n",
        "elif (sayi13<sayi14):\n",
        "  print(str(sayi13) + \", \" + str(sayi14) +\" ten kucuktur.\")\n",
        "else:\n",
        "  print(\"iki sayi birbirine esittir.\")\n"
      ],
      "execution_count": null,
      "outputs": [
        {
          "output_type": "stream",
          "text": [
            "200, 500 ten kucuktur.\n"
          ],
          "name": "stdout"
        }
      ]
    },
    {
      "cell_type": "code",
      "metadata": {
        "colab": {
          "base_uri": "https://localhost:8080/"
        },
        "id": "BHkyaNMackmD",
        "outputId": "724eafbc-1991-4c19-940a-97b686053d42"
      },
      "source": [
        "sayi15 = int(input(\"ilk sayiyi verin : \"))\n",
        "sayi16 = int(input(\"ikinci sayiyi verin : \"))\n",
        "if (sayi15>sayi16):\n",
        "  print(str(sayi15) + \", \" + str(sayi16) +\" ten buyuktur.\")\n",
        "elif (sayi15<sayi16):\n",
        "  print(str(sayi15) + \", \" + str(sayi16) +\" ten kucuktur.\")\n",
        "else:\n",
        "  print(\"iki sayi birbirine esittir.\")\n"
      ],
      "execution_count": null,
      "outputs": [
        {
          "output_type": "stream",
          "text": [
            "ilk sayiyi verin : 9\n",
            "ikinci sayiyi verin : 8\n",
            "9, 8 ten buyuktur.\n"
          ],
          "name": "stdout"
        }
      ]
    },
    {
      "cell_type": "code",
      "metadata": {
        "colab": {
          "base_uri": "https://localhost:8080/"
        },
        "id": "ucgj7S1eft8N",
        "outputId": "f94bded8-e2e0-4423-c825-80e66f50e514"
      },
      "source": [
        "sayi15 = float(input(\"ilk sayiyi verin : \"))\n",
        "sayi16 = float(input(\"ikinci sayiyi verin : \"))\n",
        "if (sayi15>sayi16):\n",
        "  print(str(sayi15) + \", \" + str(sayi16) +\" ten buyuktur.\")\n",
        "elif (sayi15<sayi16):\n",
        "  print(str(sayi15) + \", \" + str(sayi16) +\" ten kucuktur.\")\n",
        "else:\n",
        "  print(\"iki sayi birbirine esittir.\")\n"
      ],
      "execution_count": null,
      "outputs": [
        {
          "output_type": "stream",
          "text": [
            "ilk sayiyi verin : 9.8\n",
            "ikinci sayiyi verin : 9.97\n",
            "9.8, 9.97 ten kucuktur.\n"
          ],
          "name": "stdout"
        }
      ]
    },
    {
      "cell_type": "code",
      "metadata": {
        "colab": {
          "base_uri": "https://localhost:8080/"
        },
        "id": "IRoLZR6lizIx",
        "outputId": "f33729c2-dd07-4251-f31a-78783a3976ea"
      },
      "source": [
        "sayi17 = 4\n",
        "sayi17 = sayi17 + 3\n",
        "print(sayi17)\n",
        "sayi17 += 3\n",
        "print(sayi17)"
      ],
      "execution_count": null,
      "outputs": [
        {
          "output_type": "stream",
          "text": [
            "7\n",
            "10\n"
          ],
          "name": "stdout"
        }
      ]
    },
    {
      "cell_type": "code",
      "metadata": {
        "colab": {
          "base_uri": "https://localhost:8080/"
        },
        "id": "AbBjS9oQjHSY",
        "outputId": "a9371205-0ddc-444a-8a8b-5df20d415e66"
      },
      "source": [
        "sayi18 = 7\n",
        "sayi18 = sayi18 - 4\n",
        "print(sayi18)\n",
        "sayi18 -=4\n",
        "print(sayi18)"
      ],
      "execution_count": null,
      "outputs": [
        {
          "output_type": "stream",
          "text": [
            "3\n",
            "-1\n"
          ],
          "name": "stdout"
        }
      ]
    },
    {
      "cell_type": "code",
      "metadata": {
        "colab": {
          "base_uri": "https://localhost:8080/"
        },
        "id": "1_E4jTD9jm_C",
        "outputId": "3f3ba9f0-773e-40a4-87f4-33556d71517d"
      },
      "source": [
        "sayi19 = 0\n",
        "while sayi19 < 7:\n",
        "  print(sayi19)\n",
        "  sayi19 += 1\n",
        "else:\n",
        "  print(\"bitti\")"
      ],
      "execution_count": null,
      "outputs": [
        {
          "output_type": "stream",
          "text": [
            "0\n",
            "1\n",
            "2\n",
            "3\n",
            "4\n",
            "5\n",
            "6\n",
            "bitti\n"
          ],
          "name": "stdout"
        }
      ]
    },
    {
      "cell_type": "code",
      "metadata": {
        "colab": {
          "base_uri": "https://localhost:8080/"
        },
        "id": "Z8HOrNC9mQMu",
        "outputId": "fe82e04b-8dc5-44d8-9f71-74394a501f3d"
      },
      "source": [
        "sayi20 = 0\n",
        "while sayi20 < 7:\n",
        "  print(sayi20)\n",
        "  sayi20 += 1\n",
        "  if sayi20 == 3:\n",
        "    print(\"3 sayisi bulundu\")\n",
        "    break\n",
        "else:\n",
        "  print(\"bitti\")"
      ],
      "execution_count": null,
      "outputs": [
        {
          "output_type": "stream",
          "text": [
            "0\n",
            "1\n",
            "2\n",
            "3 sayisi bulundu\n"
          ],
          "name": "stdout"
        }
      ]
    },
    {
      "cell_type": "code",
      "metadata": {
        "colab": {
          "base_uri": "https://localhost:8080/"
        },
        "id": "fQQcfF5mmwTX",
        "outputId": "9c3880e0-e379-42f5-ab0d-264284c31d7c"
      },
      "source": [
        "sayi21 = 0\n",
        "while sayi21 < 7:\n",
        "  print(sayi21)\n",
        "  sayi21 += 1\n",
        "  if sayi21 == 3:\n",
        "    print(\"3 sayisi bulundu\")\n",
        "    continue\n",
        "else:\n",
        "  print(\"bitti\")"
      ],
      "execution_count": null,
      "outputs": [
        {
          "output_type": "stream",
          "text": [
            "0\n",
            "1\n",
            "2\n",
            "3 sayisi bulundu\n",
            "3\n",
            "4\n",
            "5\n",
            "6\n",
            "bitti\n"
          ],
          "name": "stdout"
        }
      ]
    }
  ]
}