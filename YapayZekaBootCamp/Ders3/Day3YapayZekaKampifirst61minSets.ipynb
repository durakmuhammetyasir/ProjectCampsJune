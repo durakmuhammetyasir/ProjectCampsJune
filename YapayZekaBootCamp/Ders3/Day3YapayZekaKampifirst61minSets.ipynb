{
  "nbformat": 4,
  "nbformat_minor": 0,
  "metadata": {
    "colab": {
      "name": "Day3YapayZekaKampifirst61minSets.ipynb",
      "provenance": [],
      "collapsed_sections": []
    },
    "kernelspec": {
      "name": "python3",
      "display_name": "Python 3"
    },
    "language_info": {
      "name": "python"
    }
  },
  "cells": [
    {
      "cell_type": "code",
      "metadata": {
        "colab": {
          "base_uri": "https://localhost:8080/"
        },
        "id": "WLpufLZu1uBk",
        "outputId": "00d6224e-cb92-413e-a1b6-26d0b817e506"
      },
      "source": [
        "turler1 = {\"roman\", \"oyku\", \"hikaye\", \"oyku\"}\n",
        "print(turler1)\n",
        "print(type(turler1))\n",
        "print(len(turler1))\n",
        "turler2 = set((\"roman\", \"oyku\", \"hikaye\", \"oyku\"))\n",
        "print(turler2)\n",
        "print(type(turler2))\n",
        "print(len(turler2))\n",
        "set1 = {\"elma\", \"armut\", \"kivi\", \"mango\", \"cilek\"}\n",
        "set2 = {1, 5, 7, 9, 3}\n",
        "set3 = {True, False, False}\n",
        "set4 = {\"abc\", 34, True, 40, \"male\"}\n",
        "print(\"oyku\" in turler1)\n",
        "for book in turler1:\n",
        "  print (book)\n",
        "if \"roman\" in turler1:\n",
        "  print( \"Roman okuyor\")\n",
        "print(set4)\n",
        "turler1.add(\"deneme\")\n",
        "print(turler1)\n",
        "turler2ek = {\"deneme\", \"aciklama\"}\n",
        "turler2.update(turler2ek)\n",
        "print(turler2)\n",
        "turler1.remove(\"oyku\")\n",
        "print(turler1)\n",
        "turler2.discard(\"hikaye\")\n",
        "print(turler2)\n",
        "set5 = {3, 4, 5}\n",
        "print(set5)\n",
        "set5.clear() #set()\n",
        "print(set5)\n",
        "del set5 #NameError: name 'set5' is not defined\n",
        "\n",
        "set6 = set3.union(set4)\n",
        "print(set6)\n",
        "\n",
        "set7 = {\"telefon\", \"bilgisayar\", \"tablet\"}\n",
        "set8 = {\"tablet\", \"mobil\", \"pc\"}\n",
        "print(set7)\n",
        "set9 = set7.intersection(set8)\n",
        "print(set9)\n",
        "set7.intersection_update(set8)\n",
        "print(set7)\n",
        "\n",
        "set10 = {\"telefon\", \"bilgisayar\", \"tablet\"}\n",
        "set10.symmetric_difference_update(set8)\n",
        "print(set10)\n",
        "\n",
        "set11 = {\"telefon\", \"bilgisayar\", \"tablet\"}\n",
        "set12 = set11.symmetric_difference(set8)\n",
        "print(set12)\n"
      ],
      "execution_count": 27,
      "outputs": [
        {
          "output_type": "stream",
          "text": [
            "{'roman', 'oyku', 'hikaye'}\n",
            "<class 'set'>\n",
            "3\n",
            "{'roman', 'oyku', 'hikaye'}\n",
            "<class 'set'>\n",
            "3\n",
            "True\n",
            "roman\n",
            "oyku\n",
            "hikaye\n",
            "Roman okuyor\n",
            "{True, 34, 40, 'abc', 'male'}\n",
            "{'roman', 'oyku', 'deneme', 'hikaye'}\n",
            "{'deneme', 'hikaye', 'roman', 'oyku', 'aciklama'}\n",
            "{'roman', 'deneme', 'hikaye'}\n",
            "{'deneme', 'roman', 'oyku', 'aciklama'}\n",
            "{3, 4, 5}\n",
            "set()\n",
            "{False, True, 34, 'abc', 40, 'male'}\n",
            "{'tablet', 'telefon', 'bilgisayar'}\n",
            "{'tablet'}\n",
            "{'tablet'}\n",
            "{'pc', 'mobil', 'telefon', 'bilgisayar'}\n",
            "{'telefon', 'bilgisayar', 'mobil', 'pc'}\n"
          ],
          "name": "stdout"
        }
      ]
    }
  ]
}