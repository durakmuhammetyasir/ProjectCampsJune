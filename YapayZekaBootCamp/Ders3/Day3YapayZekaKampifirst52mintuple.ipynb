{
  "nbformat": 4,
  "nbformat_minor": 0,
  "metadata": {
    "colab": {
      "name": "Day3YapayZekaKampituplefirst52min.ipynb",
      "provenance": [],
      "collapsed_sections": []
    },
    "kernelspec": {
      "name": "python3",
      "display_name": "Python 3"
    },
    "language_info": {
      "name": "python"
    }
  },
  "cells": [
    {
      "cell_type": "code",
      "metadata": {
        "colab": {
          "base_uri": "https://localhost:8080/"
        },
        "id": "Hz5lsX_MdtCD",
        "outputId": "0cde348b-b6d9-45f8-a620-fec9b9c6ff91"
      },
      "source": [
        "cicekler = (\"orkide\", \"papatya\", \"lale\", \"gul\")\n",
        "print(cicekler)\n",
        "print(type(cicekler))\n",
        "cicekler1 = tuple((\"orkide\", \"papatya\", \"lale\", \"gul\"))\n",
        "print(cicekler1)\n",
        "print(type(cicekler1))\n",
        "\n",
        "tuple1 = (\"elma\" , \"muz\" , \"kiraz\")\n",
        "tuple2 = (1 ,5 ,7 ,9 , 3)\n",
        "tuple3 = (True, False, False)\n",
        "tuple4 = (\"abc\", 34, True, 40, \"merhaba\")\n",
        "print(tuple1)\n",
        "print(tuple2)\n",
        "print(tuple3)\n",
        "print(tuple4)\n",
        "print(len(tuple4))\n",
        "print(tuple4[1:3])\n",
        "\n",
        "if \"merhaba\" in tuple4:\n",
        "  print (\"Merhaba size de\")\n",
        "else:\n",
        "  print(\"gunaydin\")\n",
        "\n",
        "list1 = list(tuple4)\n",
        "list1[1] = \"alakasiz\"\n",
        "tuple4 = tuple(list1)\n",
        "print(tuple4)\n",
        "\n",
        "ulkeler = (\"Turkiye\", \"Almanya\", \"Kibris\", \"Italya\", \"ABD\")\n",
        "for ulke in ulkeler:\n",
        "  print(ulke)\n",
        "for ulke_sayisi in range(len(ulkeler)):\n",
        "  print(ulkeler[ulke_sayisi])\n",
        "\n",
        "ulke_sayisi = 0 \n",
        "while ulke_sayisi < len(ulkeler):\n",
        "  print(ulkeler[ulke_sayisi])\n",
        "  ulke_sayisi = ulke_sayisi+1\n",
        "\n",
        "tuple5 = tuple3 + tuple4\n",
        "print(tuple5)\n",
        "\n",
        "tuple6 = tuple3 * 2\n",
        "print(tuple6)\n",
        "\n",
        "kac_tane = tuple6.count(True)\n",
        "print(kac_tane)\n",
        "ilk_nerede1 = tuple6.index(True)\n",
        "print(ilk_nerede1)\n",
        "ilk_nerede2 = tuple6.index(False)\n",
        "print(ilk_nerede2)"
      ],
      "execution_count": 22,
      "outputs": [
        {
          "output_type": "stream",
          "text": [
            "('orkide', 'papatya', 'lale', 'gul')\n",
            "<class 'tuple'>\n",
            "('orkide', 'papatya', 'lale', 'gul')\n",
            "<class 'tuple'>\n",
            "('elma', 'muz', 'kiraz')\n",
            "(1, 5, 7, 9, 3)\n",
            "(True, False, False)\n",
            "('abc', 34, True, 40, 'merhaba')\n",
            "5\n",
            "(34, True)\n",
            "Merhaba size de\n",
            "('abc', 'alakasiz', True, 40, 'merhaba')\n",
            "Turkiye\n",
            "Almanya\n",
            "Kibris\n",
            "Italya\n",
            "ABD\n",
            "Turkiye\n",
            "Almanya\n",
            "Kibris\n",
            "Italya\n",
            "ABD\n",
            "Turkiye\n",
            "Almanya\n",
            "Kibris\n",
            "Italya\n",
            "ABD\n",
            "(True, False, False, 'abc', 'alakasiz', True, 40, 'merhaba')\n",
            "(True, False, False, True, False, False)\n",
            "2\n",
            "0\n",
            "1\n"
          ],
          "name": "stdout"
        }
      ]
    }
  ]
}