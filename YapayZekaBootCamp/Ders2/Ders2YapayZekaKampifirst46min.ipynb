{
  "nbformat": 4,
  "nbformat_minor": 0,
  "metadata": {
    "colab": {
      "name": "Ders2YapayZekaKampifirst46min.ipynb",
      "provenance": [],
      "collapsed_sections": []
    },
    "kernelspec": {
      "name": "python3",
      "display_name": "Python 3"
    },
    "language_info": {
      "name": "python"
    }
  },
  "cells": [
    {
      "cell_type": "code",
      "metadata": {
        "id": "9DO6DMCHtWBB",
        "colab": {
          "base_uri": "https://localhost:8080/"
        },
        "outputId": "7ef684a4-04ff-4e17-a4c5-1d1141de7580"
      },
      "source": [
        "print(\"merhaba dunya\")"
      ],
      "execution_count": null,
      "outputs": [
        {
          "output_type": "stream",
          "text": [
            "merhaba dunya\n"
          ],
          "name": "stdout"
        }
      ]
    },
    {
      "cell_type": "code",
      "metadata": {
        "colab": {
          "base_uri": "https://localhost:8080/"
        },
        "id": "JUl1TxCliW7D",
        "outputId": "4523d8a9-f3ed-481d-f112-f5de2ce5ca2f"
      },
      "source": [
        "sayi = 5\n",
        "if sayi< 0:\n",
        "  print(\"Sayi negatif\")\n",
        "else:\n",
        "  print(\"Sayi negatif degil\")"
      ],
      "execution_count": null,
      "outputs": [
        {
          "output_type": "stream",
          "text": [
            "Sayi negatif degil\n"
          ],
          "name": "stdout"
        }
      ]
    },
    {
      "cell_type": "code",
      "metadata": {
        "colab": {
          "base_uri": "https://localhost:8080/"
        },
        "id": "3-5LYxNbjp1v",
        "outputId": "b88ceba4-a550-492a-9da8-1aee85a4f156"
      },
      "source": [
        "i =1 \n",
        "carp=1\n",
        "while i !=0:\n",
        "  carp *=i\n",
        "  print(carp)\n",
        "  i =int(input(\"Sayi gir\"))\n"
      ],
      "execution_count": null,
      "outputs": [
        {
          "output_type": "stream",
          "text": [
            "1\n",
            "Sayi gir8\n",
            "8\n",
            "Sayi gir8\n",
            "64\n",
            "Sayi gir54\n",
            "3456\n",
            "Sayi gir0\n"
          ],
          "name": "stdout"
        }
      ]
    },
    {
      "cell_type": "code",
      "metadata": {
        "colab": {
          "base_uri": "https://localhost:8080/"
        },
        "id": "b9_XLSAylCN7",
        "outputId": "b82b61d8-4596-4e0d-fd16-e85e155ed59c"
      },
      "source": [
        "for x in range(4 ,55 ,10):\n",
        "  print(x)"
      ],
      "execution_count": null,
      "outputs": [
        {
          "output_type": "stream",
          "text": [
            "4\n",
            "14\n",
            "24\n",
            "34\n",
            "44\n",
            "54\n"
          ],
          "name": "stdout"
        }
      ]
    },
    {
      "cell_type": "code",
      "metadata": {
        "colab": {
          "base_uri": "https://localhost:8080/"
        },
        "id": "WnJ7TtVVvW7N",
        "outputId": "062da189-17d9-462b-b495-354ccd31dd7e"
      },
      "source": [
        "for x in range(4, 5500, 1000):\n",
        "  print(x)"
      ],
      "execution_count": null,
      "outputs": [
        {
          "output_type": "stream",
          "text": [
            "4\n",
            "1004\n",
            "2004\n",
            "3004\n",
            "4004\n",
            "5004\n"
          ],
          "name": "stdout"
        }
      ]
    },
    {
      "cell_type": "code",
      "metadata": {
        "colab": {
          "base_uri": "https://localhost:8080/"
        },
        "id": "YAbUOfUKvkrV",
        "outputId": "42bb2ade-2a79-48fb-dbb8-ab719a233f17"
      },
      "source": [
        "metin = \"Merhaba, x iyi misin?\"\n",
        "for x in metin:\n",
        "  if x == \"x\":\n",
        "    continue\n",
        "  print(x)"
      ],
      "execution_count": null,
      "outputs": [
        {
          "output_type": "stream",
          "text": [
            "M\n",
            "e\n",
            "r\n",
            "h\n",
            "a\n",
            "b\n",
            "a\n",
            ",\n",
            " \n",
            " \n",
            "i\n",
            "y\n",
            "i\n",
            " \n",
            "m\n",
            "i\n",
            "s\n",
            "i\n",
            "n\n",
            "?\n"
          ],
          "name": "stdout"
        }
      ]
    },
    {
      "cell_type": "code",
      "metadata": {
        "colab": {
          "base_uri": "https://localhost:8080/"
        },
        "id": "LwXIhehswGnL",
        "outputId": "6e99c51c-f434-431b-c4aa-1d67d2ce6467"
      },
      "source": [
        "metin = \"Merhaba, x iyi misin?\"\n",
        "for x in metin:\n",
        "  if x == \"x\":\n",
        "    break\n",
        "  print(x)"
      ],
      "execution_count": null,
      "outputs": [
        {
          "output_type": "stream",
          "text": [
            "M\n",
            "e\n",
            "r\n",
            "h\n",
            "a\n",
            "b\n",
            "a\n",
            ",\n",
            " \n"
          ],
          "name": "stdout"
        }
      ]
    },
    {
      "cell_type": "code",
      "metadata": {
        "colab": {
          "base_uri": "https://localhost:8080/"
        },
        "id": "Cp1Dk3FjwpXl",
        "outputId": "36a21d94-05a2-46d3-9b6e-f0f38075f49a"
      },
      "source": [
        "x = 200\n",
        "print(isinstance(x, int))"
      ],
      "execution_count": null,
      "outputs": [
        {
          "output_type": "stream",
          "text": [
            "True\n"
          ],
          "name": "stdout"
        }
      ]
    },
    {
      "cell_type": "code",
      "metadata": {
        "colab": {
          "base_uri": "https://localhost:8080/"
        },
        "id": "ANRMogh9wpYz",
        "outputId": "822bd47d-fbfa-4ba0-de70-68ef6e64398a"
      },
      "source": [
        "tamsayi = 100\n",
        "ondalikliSayi = 1.5\n",
        "metin2 = \"Herkese Merhaba\"\n",
        "print(tamsayi)\n",
        "print(type(tamsayi))\n",
        "print(ondalikliSayi)\n",
        "print(type(ondalikliSayi))\n",
        "print(metin2)\n",
        "print(type(metin2))"
      ],
      "execution_count": null,
      "outputs": [
        {
          "output_type": "stream",
          "text": [
            "100\n",
            "<class 'int'>\n",
            "1.5\n",
            "<class 'float'>\n",
            "Herkese Merhaba\n",
            "<class 'str'>\n"
          ],
          "name": "stdout"
        }
      ]
    },
    {
      "cell_type": "code",
      "metadata": {
        "colab": {
          "base_uri": "https://localhost:8080/"
        },
        "id": "d6FnzL8Cx4O6",
        "outputId": "c12eb755-6e23-4162-fbb5-a073ece8e6b8"
      },
      "source": [
        "tamsayi = \"100\"\n",
        "ondalikliSayi = \"1.5\"\n",
        "metin2 = \"Herkese Merhaba\"\n",
        "print(tamsayi)\n",
        "print(type(tamsayi))\n",
        "print(ondalikliSayi)\n",
        "print(type(ondalikliSayi))\n",
        "print(metin2)\n",
        "print(type(metin2))"
      ],
      "execution_count": null,
      "outputs": [
        {
          "output_type": "stream",
          "text": [
            "100\n",
            "<class 'str'>\n",
            "1.5\n",
            "<class 'str'>\n",
            "Herkese Merhaba\n",
            "<class 'str'>\n"
          ],
          "name": "stdout"
        }
      ]
    },
    {
      "cell_type": "code",
      "metadata": {
        "colab": {
          "base_uri": "https://localhost:8080/"
        },
        "id": "Ubz-_h1FyHXk",
        "outputId": "a6bd64b8-873f-4109-82f9-b56d7ac99353"
      },
      "source": [
        "tamsayi = int(\"100\")\n",
        "print(tamsayi)\n",
        "print(type(tamsayi))"
      ],
      "execution_count": null,
      "outputs": [
        {
          "output_type": "stream",
          "text": [
            "100\n",
            "<class 'int'>\n"
          ],
          "name": "stdout"
        }
      ]
    },
    {
      "cell_type": "code",
      "metadata": {
        "colab": {
          "base_uri": "https://localhost:8080/"
        },
        "id": "DARBfVkaySOQ",
        "outputId": "759f7940-cfda-4866-89b2-0a15dfcc706d"
      },
      "source": [
        "tamsayi = \"100\"\n",
        "print(int(tamsayi))\n",
        "print(type(tamsayi))"
      ],
      "execution_count": null,
      "outputs": [
        {
          "output_type": "stream",
          "text": [
            "100\n",
            "<class 'str'>\n"
          ],
          "name": "stdout"
        }
      ]
    },
    {
      "cell_type": "code",
      "metadata": {
        "colab": {
          "base_uri": "https://localhost:8080/"
        },
        "id": "xqdN5nLIyjBO",
        "outputId": "8f166f01-6d33-4cbb-cbfd-0d733b85410c"
      },
      "source": [
        "ondalikliSayi =float(\"1.5\")\n",
        "print(ondalikliSayi)\n",
        "print(type(ondalikliSayi))"
      ],
      "execution_count": null,
      "outputs": [
        {
          "output_type": "stream",
          "text": [
            "1.5\n",
            "<class 'float'>\n"
          ],
          "name": "stdout"
        }
      ]
    }
  ]
}