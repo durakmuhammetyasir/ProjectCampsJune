{
  "nbformat": 4,
  "nbformat_minor": 0,
  "metadata": {
    "colab": {
      "name": "Ders2YapayZekaKampifirst150min.ipynb",
      "provenance": [],
      "collapsed_sections": []
    },
    "kernelspec": {
      "name": "python3",
      "display_name": "Python 3"
    },
    "language_info": {
      "name": "python"
    }
  },
  "cells": [
    {
      "cell_type": "code",
      "metadata": {
        "id": "DZ0FJT_jGyjK",
        "colab": {
          "base_uri": "https://localhost:8080/"
        },
        "outputId": "d69ebaa1-3c29-4882-a878-5c031ff93715"
      },
      "source": [
        "sayi1=int(input(\"Sayi1 giriniz: \"))\n",
        "sayi2=int(input(\"Sayi2 giriniz: \"))\n",
        "sayi3=int(input(\"Sayi3 giriniz: \"))\n",
        "if(sayi1<sayi2 and sayi3<sayi1):\n",
        "  print(\"En kücük sayi : \", sayi3)\n",
        "  print(\"Ortadaki sayi : \", sayi1)\n",
        "  print(\"En büyük sayi : \", sayi2)\n",
        "  #3<1<2\n",
        "elif(sayi1<sayi2 and sayi3==sayi1):\n",
        "  print(\"En kücük sayi (2 kere): \", sayi3)\n",
        "  print(\"En büyük sayi : \", sayi2)\n",
        "  #3=1<2\n",
        "elif(sayi1<sayi2 and sayi1<sayi3):\n",
        "  print(\"En kücük sayi : \" ,sayi1)\n",
        "  if(sayi2==sayi3):\n",
        "    print(\"En buyuk sayi (2 kere): \" , sayi2)\n",
        "    #1<2=3\n",
        "  elif(sayi2<sayi3):    \n",
        "    print(\"Ortadaki sayi : \", sayi2)\n",
        "    print(\"En buyuk sayi : \", sayi3)\n",
        "    #1<2<3\n",
        "  elif(sayi3<sayi2):\n",
        "    print(\"Ortadaki sayi : \", sayi3)\n",
        "    print(\"En buyuk sayi : \", sayi2)\n",
        "    #1<3<2\n",
        "elif(sayi2<sayi1 and sayi3==sayi1):\n",
        "  print(\"En kücük sayi : \", sayi2)\n",
        "  print(\"En büyük sayi (2 kere): \", sayi1)\n",
        "  #3=1<2\n",
        "elif(sayi2<sayi1 and sayi1<sayi3):\n",
        "  print(\"En kücük sayi : \", sayi2)\n",
        "  print(\"Ortadaki sayi : \", sayi1)\n",
        "  print(\"En büyük sayi : \", sayi3)\n",
        "  #2<1<3\n",
        "elif(sayi2<sayi1 and sayi3<sayi1):\n",
        "  print(\"En buyuk sayi : \", sayi1)\n",
        "  if(sayi2==sayi3):\n",
        "    print(\"En kucuk sayi (2 kere): \" , sayi2)\n",
        "    #2=3<1\n",
        "  elif(sayi2<sayi3):\n",
        "    print(\"En kucuk sayi : \", sayi2)\n",
        "    print(\"Ortadaki sayi : \", sayi3)\n",
        "    #2<3<1\n",
        "  elif(sayi3<sayi2):\n",
        "    print(\"En kucuk sayi : \", sayi3)\n",
        "    print(\"Ortadaki sayi : \", sayi2)\n",
        "    #3<2<1\n",
        "\n",
        "elif(sayi1==sayi2 and sayi3<sayi1):\n",
        "  print(\"En kücük sayi : \", sayi3)\n",
        "  print(\"En büyük sayi (2 kere): \", sayi2)\n",
        "  #3<1=2\n",
        "elif(sayi1==sayi2 and sayi1<sayi3):\n",
        "  print(\"En kücük sayi (2 kere): \", sayi1)\n",
        "  print(\"En büyük sayi : \", sayi3)\n",
        "  #3<1=2\n",
        "elif(sayi1==sayi2 and sayi3==sayi1):\n",
        "  print(\"Sayilar birbirine esittir :\",sayi3)\n",
        "  metin = \"Sayilar birbirine esittir : {}\"\n",
        "  print(metin.format(sayi3))\n",
        "  #3=1=2"
      ],
      "execution_count": 60,
      "outputs": [
        {
          "output_type": "stream",
          "text": [
            "Sayi1 giriniz: 1\n",
            "Sayi2 giriniz: 1\n",
            "Sayi3 giriniz: 1\n",
            "Sayilar birbirine esittir : 1\n",
            "Sayilar birbirine esittir : 1\n"
          ],
          "name": "stdout"
        }
      ]
    },
    {
      "cell_type": "code",
      "metadata": {
        "colab": {
          "base_uri": "https://localhost:8080/"
        },
        "id": "wae14rhHkNxo",
        "outputId": "e36f30e1-6b7a-4eb4-dac5-e8a713873bbe"
      },
      "source": [
        "x = [\"elma\", \"muz\", \"armut\"]\n",
        "y = [\"elma\", \"muz\", \"armut\"]\n",
        "z = x\n",
        "print(x is z)\n",
        "print(x is y)\n",
        "print(x == y)\n",
        "if(x is not y):\n",
        "  print(\"Ayni nesne degil.\")\n",
        "if(z is x):\n",
        "  print(\"Ayni nesneler.\")\n",
        "print(\"elma\" in x)\n",
        "if(\"elma\" in y):\n",
        "  print(\"Dizinde elma bulundu.\")"
      ],
      "execution_count": 30,
      "outputs": [
        {
          "output_type": "stream",
          "text": [
            "True\n",
            "False\n",
            "True\n",
            "Ayni nesne degil\n",
            "Ayni nesneler\n",
            "True\n",
            "Dizinde elma bulundu.\n"
          ],
          "name": "stdout"
        }
      ]
    },
    {
      "cell_type": "code",
      "metadata": {
        "colab": {
          "base_uri": "https://localhost:8080/"
        },
        "id": "Xu5dbOiDl5aW",
        "outputId": "eaa65743-f9dd-4365-8dc3-c4b7b8495aa1"
      },
      "source": [
        "for x in \"robotik\":\n",
        "  print(x)"
      ],
      "execution_count": 31,
      "outputs": [
        {
          "output_type": "stream",
          "text": [
            "r\n",
            "o\n",
            "b\n",
            "o\n",
            "t\n",
            "i\n",
            "k\n"
          ],
          "name": "stdout"
        }
      ]
    },
    {
      "cell_type": "code",
      "metadata": {
        "colab": {
          "base_uri": "https://localhost:8080/"
        },
        "id": "2QDLDz15ryTi",
        "outputId": "d3af1efb-c985-4f18-b0c9-df3959a09efe"
      },
      "source": [
        "metin1 = \"\"\"Are \n",
        "you \n",
        "ready?\"\"\"\n",
        "print(metin1)"
      ],
      "execution_count": 32,
      "outputs": [
        {
          "output_type": "stream",
          "text": [
            "Are \n",
            "you \n",
            "ready?\n"
          ],
          "name": "stdout"
        }
      ]
    },
    {
      "cell_type": "code",
      "metadata": {
        "colab": {
          "base_uri": "https://localhost:8080/"
        },
        "id": "rJlN2sPsr59z",
        "outputId": "2d5432c2-3c5e-4351-8b8b-1bfbdef3caa5"
      },
      "source": [
        "metin2 = \"Okul\"\n",
        "print(metin2[3])\n",
        "print(metin2[0:2])\n",
        "print(len(metin2))\n",
        "print(metin2[-4:-1])"
      ],
      "execution_count": 52,
      "outputs": [
        {
          "output_type": "stream",
          "text": [
            "l\n",
            "Ok\n",
            "4\n",
            "Oku\n"
          ],
          "name": "stdout"
        }
      ]
    },
    {
      "cell_type": "code",
      "metadata": {
        "colab": {
          "base_uri": "https://localhost:8080/"
        },
        "id": "RG7Og0LcsBl5",
        "outputId": "9d1da3b0-6e9f-423d-c8e3-b81a4af684f7"
      },
      "source": [
        "metin3 = \"Python dersinde hos bulduk.\"\n",
        "print(\"hos\" in metin3)\n",
        "print(\"hoş\" not in metin3)  "
      ],
      "execution_count": 38,
      "outputs": [
        {
          "output_type": "stream",
          "text": [
            "True\n",
            "True\n"
          ],
          "name": "stdout"
        }
      ]
    },
    {
      "cell_type": "code",
      "metadata": {
        "colab": {
          "base_uri": "https://localhost:8080/"
        },
        "id": "8loHCOiptMDu",
        "outputId": "c91a1198-ea8d-4fbf-b974-00b0b52b3831"
      },
      "source": [
        "metin4 = input(\"Aranacak ismi verin : \")\n",
        "metin5=(\"kamil, mert, hayri, akin\")\n",
        "metin6 = metin4.lower()\n",
        "if(metin6 in metin5):\n",
        "  print(\"Isim bulundu.\")"
      ],
      "execution_count": 46,
      "outputs": [
        {
          "output_type": "stream",
          "text": [
            "Aranacak ismi verin : Kamil\n",
            "Isim bulundu.\n"
          ],
          "name": "stdout"
        }
      ]
    },
    {
      "cell_type": "code",
      "metadata": {
        "colab": {
          "base_uri": "https://localhost:8080/"
        },
        "id": "XPjNIEFhvlUM",
        "outputId": "77fa309f-593b-4506-fbba-21640d7d089c"
      },
      "source": [
        "yas1 = 34\n",
        "metin7 = \"Merhaba, yasim {}\"\n",
        "print(metin7.format(yas1))\n",
        "adi1 = \"Erdem\"\n",
        "boyu1 = 1.56\n",
        "metin8 = \"Merhaba, benim adim {}, yasim {} ve boyum {}\"\n",
        "print(metin8.format(adi1, yas1, boyu1))\n",
        "yas2 = int (input(\"Yasinizi verin : \"))\n",
        "adi2 = input(\"Adinizi verin :\")\n",
        "boyu2 = float (input(\"Boyunuzu verin : \"))\n",
        "metin8 = \"Merhaba, benim adim {}, yasim {} ve boyum {}\"\n",
        "print(metin8.format(adi2, yas2, boyu2))"
      ],
      "execution_count": 57,
      "outputs": [
        {
          "output_type": "stream",
          "text": [
            "Merhaba, yasim 34\n",
            "Merhaba, benim adim Erdem, yasim 34 ve boyum 1.56\n",
            "Yasinizi verin : 34\n",
            "Adinizi verin :Yasir\n",
            "Boyunuzu verin : 1.81\n",
            "Merhaba, benim adim Yasir, yasim 34 ve boyum 1.81\n"
          ],
          "name": "stdout"
        }
      ]
    }
  ]
}